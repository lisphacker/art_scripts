{
 "cells": [
  {
   "cell_type": "code",
   "execution_count": 24,
   "metadata": {},
   "outputs": [],
   "source": [
    "from bs4 import BeautifulSoup\n",
    "import csv"
   ]
  },
  {
   "cell_type": "code",
   "execution_count": 25,
   "metadata": {},
   "outputs": [],
   "source": [
    "with open('pc.html') as f:\n",
    "    html_doc = f.read()\n",
    "soup = BeautifulSoup(html_doc, 'html.parser')"
   ]
  },
  {
   "cell_type": "code",
   "execution_count": 26,
   "metadata": {},
   "outputs": [],
   "source": [
    "color_divs = soup.find_all('div', class_='color-teaser')"
   ]
  },
  {
   "cell_type": "code",
   "execution_count": 27,
   "metadata": {},
   "outputs": [],
   "source": [
    "def extract_color(tag):\n",
    "    attrs = tag.img.attrs\n",
    "    \n",
    "    title = attrs['title']\n",
    "    bits = title.split(' ')\n",
    "    code = bits[0]\n",
    "    name = ' '.join(bits[1:]).capitalize()\n",
    "    \n",
    "    style = attrs['style']\n",
    "    rgb = style.split('#')[1]\n",
    "    r = int(rgb[0:2], base=16)\n",
    "    g = int(rgb[2:4], base=16)\n",
    "    b = int(rgb[4:6], base=16)\n",
    "    \n",
    "    return code, name, r, g, b"
   ]
  },
  {
   "cell_type": "code",
   "execution_count": null,
   "metadata": {},
   "outputs": [],
   "source": [
    "with open('polychromos.csv', 'wb', newline='') as f:\n",
    "    cf = csv.writer(f)\n",
    "    cf.writerow(['Code', 'Name', 'R', 'G', 'B'])\n",
    "    for cd in color_divs:\n",
    "        code, name, r, g, b = extract_color(cd)\n",
    "        cf.writerow([code, name, r, g, b])\n",
    "        "
   ]
  }
 ],
 "metadata": {
  "kernelspec": {
   "display_name": "Python 3",
   "language": "python",
   "name": "python3"
  },
  "language_info": {
   "codemirror_mode": {
    "name": "ipython",
    "version": 3
   },
   "file_extension": ".py",
   "mimetype": "text/x-python",
   "name": "python",
   "nbconvert_exporter": "python",
   "pygments_lexer": "ipython3",
   "version": "3.6.5rc1"
  }
 },
 "nbformat": 4,
 "nbformat_minor": 2
}
