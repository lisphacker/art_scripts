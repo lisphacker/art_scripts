{
 "cells": [
  {
   "cell_type": "code",
   "execution_count": 1,
   "metadata": {},
   "outputs": [],
   "source": [
    "with open('pdftext.txt') as f:\n",
    "    lines = f.readlines()"
   ]
  },
  {
   "cell_type": "code",
   "execution_count": 17,
   "metadata": {},
   "outputs": [],
   "source": [
    "lns = list(filter(lambda s: s.strip() != '', lines))\n",
    "table = []\n",
    "for i in range(0, len(lns), 4):\n",
    "    l = lns[i:(i + 4)]\n",
    "    h = l[0].strip()\n",
    "    n, vc = l[2].strip().split(' ')\n",
    "    v,c = vc.split('/')\n",
    "    table.append((n, h, v, c))"
   ]
  },
  {
   "cell_type": "code",
   "execution_count": 23,
   "metadata": {},
   "outputs": [],
   "source": [
    "import csv"
   ]
  },
  {
   "cell_type": "code",
   "execution_count": 24,
   "metadata": {},
   "outputs": [],
   "source": [
    "with open('polychromos_munsell.csv', 'w') as f:\n",
    "    cf = csv.writer(f, delimiter=',')\n",
    "    cf.writerow(('Pencil', 'Hue', 'Value', 'Chroma'))\n",
    "    for row in table:\n",
    "        cf.writerow(row)\n"
   ]
  }
 ],
 "metadata": {
  "kernelspec": {
   "display_name": "Python 3",
   "language": "python",
   "name": "python3"
  },
  "language_info": {
   "codemirror_mode": {
    "name": "ipython",
    "version": 3
   },
   "file_extension": ".py",
   "mimetype": "text/x-python",
   "name": "python",
   "nbconvert_exporter": "python",
   "pygments_lexer": "ipython3",
   "version": "3.6.4"
  }
 },
 "nbformat": 4,
 "nbformat_minor": 2
}
