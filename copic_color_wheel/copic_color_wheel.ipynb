{
 "cells": [
  {
   "cell_type": "code",
   "execution_count": 1,
   "metadata": {},
   "outputs": [],
   "source": [
    "import math\n",
    "import cairo"
   ]
  },
  {
   "cell_type": "code",
   "execution_count": 2,
   "metadata": {},
   "outputs": [],
   "source": [
    "DIM = 3000\n",
    "DIM_POINTS = 590\n",
    "CX = CY = 0.5\n",
    "\n",
    "ANGLE_START = math.pi / 2\n",
    "ANGLE_BY_5 = 2 * math.pi / 5\n",
    "ANGLE_BY_10 = 2 * math.pi / 10\n",
    "ANGLE_BY_100 = 2 * math.pi / 100"
   ]
  },
  {
   "cell_type": "code",
   "execution_count": 3,
   "metadata": {},
   "outputs": [],
   "source": [
    "surface = cairo.RecordingSurface(cairo.Content.COLOR_ALPHA, \n",
    "                                 cairo.Rectangle(0, 0, DIM, DIM))\n",
    "ctx = cairo.Context(surface)\n",
    "ctx.scale(DIM, DIM)"
   ]
  },
  {
   "cell_type": "code",
   "execution_count": 4,
   "metadata": {},
   "outputs": [],
   "source": [
    "ctx.set_source_rgb(0, 0, 0)"
   ]
  },
  {
   "cell_type": "code",
   "execution_count": 5,
   "metadata": {},
   "outputs": [],
   "source": [
    "def circle(cx, cy, r, width = 10):\n",
    "    ctx.save()\n",
    "    ctx.set_line_width(width)\n",
    "    ctx.arc(cx, cy, r, 0, math.pi * 2)\n",
    "    ctx.stroke()\n",
    "    ctx.restore()\n",
    "    \n",
    "def radial_line(cx, cy, start_rad, end_rad, angle, width = 10):\n",
    "    x1 = cx + start_rad * math.cos(angle)\n",
    "    y1 = cx + start_rad * math.sin(angle)\n",
    "    x2 = cx + end_rad * math.cos(angle)\n",
    "    y2 = cx + end_rad * math.sin(angle)\n",
    "    \n",
    "    ctx.save()\n",
    "    ctx.set_line_width(width)\n",
    "    ctx.move_to(x1, y1)\n",
    "    ctx.line_to(x2, y2)\n",
    "    ctx.stroke()\n",
    "    ctx.restore()\n",
    "    "
   ]
  },
  {
   "cell_type": "code",
   "execution_count": 6,
   "metadata": {},
   "outputs": [],
   "source": [
    "thick_width = 0.004\n",
    "medium_width = thick_width / 2\n",
    "thin_width = thick_width / 5\n",
    "\n",
    "size = 0.018\n",
    "num_circles = 23\n",
    "min_radius = 3 * size\n",
    "max_radius = min_radius + (num_circles - 1) * size\n",
    "\n",
    "r0 = min_radius\n",
    "r10 = min_radius + 10 * size\n",
    "r11 = min_radius + 11 * size\n",
    "r21 = min_radius + 21 * size\n",
    "r22 = min_radius + 22 * size"
   ]
  },
  {
   "cell_type": "code",
   "execution_count": 7,
   "metadata": {},
   "outputs": [],
   "source": [
    "# Draw concentric circles\n",
    "for i in range(num_circles):\n",
    "    r = min_radius + i * size\n",
    "    w = thick_width if i in [0, 10, 11, 21, 22] else thin_width\n",
    "    circle(CX, CY, r, w)"
   ]
  },
  {
   "cell_type": "code",
   "execution_count": 8,
   "metadata": {},
   "outputs": [],
   "source": [
    "# Level 1 sections\n",
    "a = ANGLE_START\n",
    "for i in range(0, 5):\n",
    "    radial_line(CX, CY, min_radius, max_radius, a, thick_width)\n",
    "    a += ANGLE_BY_5\n",
    "\n",
    "# Level 2 sections\n",
    "a = ANGLE_START\n",
    "for i in range(0, 10):\n",
    "    radial_line(CX, CY, r11, r21, a, medium_width)\n",
    "    a += ANGLE_BY_10\n",
    "\n",
    "# Level 3 sections\n",
    "a = ANGLE_START\n",
    "for i in range(0, 100):\n",
    "    radial_line(CX, CY, r0, r10, a, thin_width)\n",
    "    radial_line(CX, CY, r11, r21, a, thin_width)\n",
    "    a += ANGLE_BY_100\n",
    "    \n",
    "    "
   ]
  },
  {
   "cell_type": "code",
   "execution_count": 9,
   "metadata": {},
   "outputs": [],
   "source": [
    "def make_png_surface():\n",
    "    global png_surface\n",
    "    \n",
    "    tmp_svg_surface = cairo.SVGSurface('tnp.svg', DIM, DIM)\n",
    "    ctx = cairo.Context(tmp_svg_surface)\n",
    "    scale = float(DIM) / float(DIM_POINTS)\n",
    "    ctx.scale(scale, scale)\n",
    "    ctx.set_source_surface(svg_surface)\n",
    "    ctx.rectangle(0, 0, DIM - 1, DIM - 1)\n",
    "    ctx.fill()\n",
    "    \n",
    "    png_surface = cairo.ImageSurface(cairo.FORMAT_ARGB32, DIM, DIM)\n",
    "    ctx = cairo.Context(png_surface)\n",
    "    ctx.set_source_surface(tmp_svg_surface)\n",
    "    ctx.rectangle(0, 0, DIM - 1, DIM - 1)\n",
    "    ctx.fill()\n",
    "\n",
    "def render_surface(src, src_dim, dst, dst_dim):\n",
    "    ctx = cairo.Context(dst)\n",
    "    scale = float(dst_dim) / float(src_dim)\n",
    "    ctx.scale(scale, scale)\n",
    "    ctx.set_source_surface(src)\n",
    "    ctx.rectangle(0, 0, dst_dim - 1, dst_dim - 1)\n",
    "    ctx.paint()\n",
    "    \n",
    "svg_surface = cairo.SVGSurface('copic_color_wheel.svg', \n",
    "                               DIM_POINTS, DIM_POINTS)\n",
    "render_surface(surface, DIM, svg_surface, DIM_POINTS)\n",
    "\n",
    "png_surface = cairo.ImageSurface(cairo.FORMAT_ARGB32, DIM, DIM)\n",
    "render_surface(surface, DIM, png_surface, DIM)\n",
    "png_surface.write_to_png('copic_color_wheel.png')\n",
    "\n",
    "#ctx.set_source_rgb(1, 1, 1)\n",
    "#ctx.rectangle(0, 0, 1, 1)\n",
    "#ctx.fill()\n",
    "\n"
   ]
  },
  {
   "cell_type": "code",
   "execution_count": 10,
   "metadata": {},
   "outputs": [],
   "source": [
    "png_surface.finish()\n",
    "svg_surface.finish()"
   ]
  }
 ],
 "metadata": {
  "kernelspec": {
   "display_name": "Python 3",
   "language": "python",
   "name": "python3"
  },
  "language_info": {
   "codemirror_mode": {
    "name": "ipython",
    "version": 3
   },
   "file_extension": ".py",
   "mimetype": "text/x-python",
   "name": "python",
   "nbconvert_exporter": "python",
   "pygments_lexer": "ipython3",
   "version": "3.6.5rc1"
  }
 },
 "nbformat": 4,
 "nbformat_minor": 2
}
