{
 "cells": [
  {
   "cell_type": "code",
   "execution_count": 1,
   "metadata": {},
   "outputs": [],
   "source": [
    "import swatch\n",
    "import re"
   ]
  },
  {
   "cell_type": "code",
   "execution_count": 2,
   "metadata": {},
   "outputs": [],
   "source": [
    "sw = swatch.parse('dic.ase')"
   ]
  },
  {
   "cell_type": "code",
   "execution_count": 3,
   "metadata": {},
   "outputs": [],
   "source": [
    "groups = [((1, 257), 'DIC COLOR GUIDE Vol.1'),\n",
    "          ((258, 501), 'DIC COLOR GUIDE Vol.2'),\n",
    "          ((502, 654), 'DIC COLOR GUIDE Vol.3'),\n",
    "          ((2001, 2240), 'DIC COLOR GUIDE Vol.4'),\n",
    "          ((2241, 2481), 'DIC COLOR GUIDE Vol.5'),\n",
    "          ((2482, 2638), 'DIC COLOR GUIDE Vol.6')]\n",
    "          \n",
    "           \n",
    "vol_ranges = {n:r for (r,n) in groups}"
   ]
  },
  {
   "cell_type": "code",
   "execution_count": 4,
   "metadata": {},
   "outputs": [],
   "source": [
    "colors = {ce['name']:ce for ce in sw}"
   ]
  },
  {
   "cell_type": "code",
   "execution_count": 5,
   "metadata": {},
   "outputs": [],
   "source": [
    "prog = re.compile('DIC (\\d*)')\n",
    "\n",
    "def get_num(name):\n",
    "    try:\n",
    "        m = prog.match(name)\n",
    "        return int(m.groups()[0])\n",
    "    except:\n",
    "        return -1\n",
    "    \n",
    "def get_group(num):\n",
    "    for (r,n) in groups:\n",
    "        if num >= r[0] and num <= r[1]:\n",
    "            return n\n",
    "    return ''"
   ]
  },
  {
   "cell_type": "code",
   "execution_count": 6,
   "metadata": {},
   "outputs": [],
   "source": [
    "vols = dict()\n",
    "\n",
    "for name in colors:\n",
    "    num = get_num(name)\n",
    "    group = get_group(num)\n",
    "    if group not in vols:\n",
    "        vols[group] = list()\n",
    "    vols[group].append(colors[name])"
   ]
  },
  {
   "cell_type": "code",
   "execution_count": 7,
   "metadata": {},
   "outputs": [],
   "source": [
    "swatch.write([{'name':n, 'swatches':vols[n], 'type': u'Color Group'} for n in vols], 'DIC_Volumes.ase')\n",
    "#[{'name':n, 'swatches':vols[n], 'type': u'Color Group'} for n in vols]"
   ]
  }
 ],
 "metadata": {
  "kernelspec": {
   "display_name": "Python 3",
   "language": "python",
   "name": "python3"
  },
  "language_info": {
   "codemirror_mode": {
    "name": "ipython",
    "version": 3
   },
   "file_extension": ".py",
   "mimetype": "text/x-python",
   "name": "python",
   "nbconvert_exporter": "python",
   "pygments_lexer": "ipython3",
   "version": "3.6.6"
  }
 },
 "nbformat": 4,
 "nbformat_minor": 2
}
