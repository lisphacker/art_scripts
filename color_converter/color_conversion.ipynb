{
 "cells": [
  {
   "cell_type": "code",
   "execution_count": 1,
   "metadata": {},
   "outputs": [],
   "source": [
    "from sklearn.linear_model import LinearRegression\n",
    "import csv\n",
    "import numpy as np"
   ]
  },
  {
   "cell_type": "code",
   "execution_count": 2,
   "metadata": {},
   "outputs": [],
   "source": [
    "rgb = []\n",
    "cmyk = []\n",
    "with open('prismacolor.csv') as f:\n",
    "    reader = csv.reader(f)\n",
    "    for row in reader:\n",
    "        if row[0] == 'Code':\n",
    "            continue\n",
    "        cmyk.append([int(row[2]), int(row[3]), int(row[4]), int(row[5])])\n",
    "        rgb.append([int(row[6]), int(row[7]), int(row[8])])"
   ]
  },
  {
   "cell_type": "code",
   "execution_count": 3,
   "metadata": {},
   "outputs": [],
   "source": [
    "cmyk = np.array(cmyk, 'float32')\n",
    "rgb = np.array(rgb, 'float32')"
   ]
  },
  {
   "cell_type": "code",
   "execution_count": 4,
   "metadata": {},
   "outputs": [],
   "source": [
    "def make_params(a):\n",
    "    n, p = a.shape\n",
    "    a2 = np.empty((n, p + p * p), dtype='float32')\n",
    "    a2[:, 0:p] = a\n",
    "    for i in range(p):\n",
    "        s = p + i * p\n",
    "        e = p + (i + 1) * p\n",
    "        a2[:, s:e] = a * a[:, 0].reshape((n, 1))\n",
    "    \n",
    "    return a2\n",
    "    \n",
    "cmyk_ip = make_params(cmyk)\n",
    "rgb_ip = make_params(rgb)"
   ]
  },
  {
   "cell_type": "code",
   "execution_count": 5,
   "metadata": {},
   "outputs": [
    {
     "data": {
      "text/plain": [
       "LinearRegression(copy_X=True, fit_intercept=True, n_jobs=1, normalize=False)"
      ]
     },
     "execution_count": 5,
     "metadata": {},
     "output_type": "execute_result"
    }
   ],
   "source": [
    "rgb2cmyk = LinearRegression()\n",
    "rgb2cmyk.fit(rgb_ip, cmyk)\n",
    "\n",
    "cmyk2rgb = LinearRegression()\n",
    "cmyk2rgb.fit(cmyk_ip, rgb)"
   ]
  },
  {
   "cell_type": "code",
   "execution_count": 6,
   "metadata": {},
   "outputs": [
    {
     "data": {
      "text/plain": [
       "(array([[-4.1336375e-01,  8.7289475e-02,  7.3187403e-02,  1.0815263e-04,\n",
       "         -1.0160729e-04, -9.4035640e-05,  1.4278665e-04, -1.0160729e-04,\n",
       "         -1.0502897e-04,  1.5603006e-04, -1.0160729e-04, -1.0226108e-04],\n",
       "        [ 1.5752211e-01, -3.7863362e-01,  8.7546282e-02, -4.1827559e-05,\n",
       "         -3.3967197e-05, -1.3422221e-04, -6.1482191e-05, -3.3952296e-05,\n",
       "         -1.2561679e-04, -6.7383051e-05, -3.3952296e-05, -1.2778491e-04],\n",
       "        [ 1.1796001e-01,  6.8308659e-02, -3.6564285e-01, -4.5396388e-05,\n",
       "         -7.7046454e-05, -4.4828281e-05, -5.1490963e-05, -7.6994300e-05,\n",
       "         -5.1742420e-05, -5.6492165e-05, -7.6994300e-05, -4.9985014e-05],\n",
       "        [-1.9851278e-01, -1.7868930e-01, -1.9205138e-01, -9.6373260e-05,\n",
       "          2.4206191e-04,  2.8530136e-04, -8.1904233e-05,  2.4209172e-04,\n",
       "          2.7433410e-04, -7.7478588e-05,  2.4209172e-04,  2.7709827e-04]],\n",
       "       dtype=float32),\n",
       " array([[-2.4635866e+00, -6.2505625e-02,  2.5828907e-02, -2.6142755e+00,\n",
       "         -4.1303225e-04,  5.0055981e-04, -1.4371239e-05,  6.2862518e-03,\n",
       "         -4.3055601e-04,  5.0142407e-04, -5.1803887e-05,  6.2951925e-03,\n",
       "         -4.3055601e-04,  5.0142407e-04, -5.1803887e-05,  6.2951925e-03,\n",
       "         -4.3055601e-04,  5.0142407e-04, -1.2462027e-05,  6.2919748e-03],\n",
       "        [-2.7283904e-01, -2.4336288e+00, -5.1464695e-02, -1.0640552e-01,\n",
       "          2.0027161e-04,  6.1029196e-04,  3.3974648e-06, -3.6266595e-03,\n",
       "          2.0015240e-04,  6.0272217e-04, -4.6491623e-06, -3.6267042e-03,\n",
       "          2.0015240e-04,  6.0272217e-04, -4.6491623e-06, -3.6267042e-03,\n",
       "          2.0015240e-04,  6.0272217e-04,  3.3080578e-06, -3.6242604e-03],\n",
       "        [ 4.0621245e-01, -1.1884946e-01, -2.4565749e+00, -1.2777716e+00,\n",
       "         -1.7873682e-03,  4.7018938e-04,  9.1337040e-04,  1.0406529e-03,\n",
       "         -1.7967857e-03,  4.6685152e-04,  9.1036037e-04,  1.0462557e-03,\n",
       "         -1.7967857e-03,  4.6685152e-04,  9.1036037e-04,  1.0462557e-03,\n",
       "         -1.7967857e-03,  4.6685152e-04,  9.1110729e-04,  1.0444378e-03]],\n",
       "       dtype=float32))"
      ]
     },
     "execution_count": 6,
     "metadata": {},
     "output_type": "execute_result"
    }
   ],
   "source": [
    "rgb2cmyk.coef_, cmyk2rgb.coef_"
   ]
  },
  {
   "cell_type": "code",
   "execution_count": 7,
   "metadata": {},
   "outputs": [
    {
     "data": {
      "text/plain": [
       "(array([53.,  6., 84.,  0.], dtype=float32),\n",
       " array([120., 240.,  41.], dtype=float32))"
      ]
     },
     "execution_count": 7,
     "metadata": {},
     "output_type": "execute_result"
    }
   ],
   "source": [
    "cmyk[0], rgb[0]"
   ]
  },
  {
   "cell_type": "code",
   "execution_count": 8,
   "metadata": {},
   "outputs": [
    {
     "data": {
      "text/plain": [
       "(array([[120.5126  , 226.35068 ,  60.237167]], dtype=float32),\n",
       " array([[48.390144  , -0.41435242, 84.66801   ,  8.982529  ]],\n",
       "       dtype=float32))"
      ]
     },
     "execution_count": 8,
     "metadata": {},
     "output_type": "execute_result"
    }
   ],
   "source": [
    "cmyk2rgb.predict(cmyk_ip[0:1, :]), rgb2cmyk.predict(rgb_ip[0:1, :])"
   ]
  },
  {
   "cell_type": "code",
   "execution_count": 9,
   "metadata": {},
   "outputs": [
    {
     "data": {
      "text/plain": [
       "(50.0, 0.0, 82.91666666666667, 5.882352941176472)"
      ]
     },
     "execution_count": 9,
     "metadata": {},
     "output_type": "execute_result"
    }
   ],
   "source": [
    "cmyk_scale = 100\n",
    "def rgb_to_cmyk(r,g,b):\n",
    "    if (r == 0) and (g == 0) and (b == 0):\n",
    "        # black\n",
    "        return 0, 0, 0, cmyk_scale\n",
    "\n",
    "    # rgb [0,255] -> cmy [0,1]\n",
    "    c = 1 - r / 255.\n",
    "    m = 1 - g / 255.\n",
    "    y = 1 - b / 255.\n",
    "\n",
    "    # extract out k [0,1]\n",
    "    min_cmy = min(c, m, y)\n",
    "    c = (c - min_cmy) / (1 - min_cmy)\n",
    "    m = (m - min_cmy) / (1 - min_cmy)\n",
    "    y = (y - min_cmy) / (1 - min_cmy)\n",
    "    k = min_cmy\n",
    "\n",
    "    # rescale to the range [0,cmyk_scale]\n",
    "    return c*cmyk_scale, m*cmyk_scale, y*cmyk_scale, k*cmyk_scale\n",
    "\n",
    "rgb_to_cmyk(rgb[0, 0], rgb[0, 1], rgb[0, 2])"
   ]
  },
  {
   "cell_type": "code",
   "execution_count": null,
   "metadata": {},
   "outputs": [],
   "source": []
  }
 ],
 "metadata": {
  "kernelspec": {
   "display_name": "Python 3",
   "language": "python",
   "name": "python3"
  },
  "language_info": {
   "codemirror_mode": {
    "name": "ipython",
    "version": 3
   },
   "file_extension": ".py",
   "mimetype": "text/x-python",
   "name": "python",
   "nbconvert_exporter": "python",
   "pygments_lexer": "ipython3",
   "version": "3.6.5rc1"
  }
 },
 "nbformat": 4,
 "nbformat_minor": 2
}
