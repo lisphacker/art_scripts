{
 "cells": [
  {
   "cell_type": "code",
   "execution_count": 2,
   "metadata": {},
   "outputs": [],
   "source": [
    "import csv"
   ]
  },
  {
   "cell_type": "code",
   "execution_count": 3,
   "metadata": {},
   "outputs": [],
   "source": [
    "cmyk_scale = 100\n",
    "def rgb_to_cmyk(r,g,b):\n",
    "    if (r == 0) and (g == 0) and (b == 0):\n",
    "        # black\n",
    "        return 0, 0, 0, cmyk_scale\n",
    "\n",
    "    # rgb [0,255] -> cmy [0,1]\n",
    "    c = 1 - r / 255.\n",
    "    m = 1 - g / 255.\n",
    "    y = 1 - b / 255.\n",
    "\n",
    "    # extract out k [0,1]\n",
    "    min_cmy = min(c, m, y)\n",
    "    c = (c - min_cmy) / (1 - min_cmy)\n",
    "    m = (m - min_cmy) / (1 - min_cmy)\n",
    "    y = (y - min_cmy) / (1 - min_cmy)\n",
    "    k = min_cmy\n",
    "\n",
    "    # rescale to the range [0,cmyk_scale]\n",
    "    return c*cmyk_scale, m*cmyk_scale, y*cmyk_scale, k*cmyk_scale"
   ]
  },
  {
   "cell_type": "code",
   "execution_count": 5,
   "metadata": {},
   "outputs": [],
   "source": [
    "with open('polychromos_original.csv', 'r') as infile:\n",
    "    reader = csv.reader(infile)\n",
    "    with open('polychromos.csv', 'w', newline='') as outfile:\n",
    "        writer = csv.writer(outfile)\n",
    "        for row in reader:\n",
    "            code, name, r, g, b = row\n",
    "            if code == 'Code':\n",
    "                writer.writerow([code, name, 'C', 'M', 'Y', 'K', r, g, b])\n",
    "            else:\n",
    "                r = int(r)\n",
    "                g = int(g)\n",
    "                b = int(b)\n",
    "                c, m, y, k = rgb_to_cmyk(r, g, b)\n",
    "                c = int(c + 0.5)\n",
    "                m = int(m + 0.5)\n",
    "                y = int(y + 0.5)\n",
    "                k = int(k + 0.5)\n",
    "                writer.writerow([code, name, c, m, y, k, r, g, b])\n",
    "\n",
    "        "
   ]
  }
 ],
 "metadata": {
  "kernelspec": {
   "display_name": "Python 3",
   "language": "python",
   "name": "python3"
  },
  "language_info": {
   "codemirror_mode": {
    "name": "ipython",
    "version": 3
   },
   "file_extension": ".py",
   "mimetype": "text/x-python",
   "name": "python",
   "nbconvert_exporter": "python",
   "pygments_lexer": "ipython3",
   "version": "3.6.5rc1"
  }
 },
 "nbformat": 4,
 "nbformat_minor": 2
}
